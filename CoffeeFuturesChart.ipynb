{
 "cells": [
  {
   "cell_type": "code",
   "execution_count": 81,
   "metadata": {},
   "outputs": [
    {
     "name": "stderr",
     "output_type": "stream",
     "text": [
      "W-1001 (NO_DATA_RENDERERS): Plot has no data renderers: Figure(id='99bd85d1-87fa-4a43-9a45-c72ad76cc5c1', ...)\n",
      "W-1001 (NO_DATA_RENDERERS): Plot has no data renderers: Figure(id='e59a9311-a7ad-4670-a030-d3391289d7c5', ...)\n",
      "W-1001 (NO_DATA_RENDERERS): Plot has no data renderers: Figure(id='6becd094-e6d0-4e4e-81a1-2b285f9ad7d9', ...)\n",
      "E-1001 (BAD_COLUMN_NAME): Glyph refers to nonexistent column name: date, price [renderer: GlyphRenderer(id='c7a0f66c-796c-4ab3-8134-9d7a7023f01f', ...)]\n",
      "E-1001 (BAD_COLUMN_NAME): Glyph refers to nonexistent column name: price [renderer: GlyphRenderer(id='cbe0f46a-13cb-4c72-95a6-449167426752', ...)]\n",
      "W-1001 (NO_DATA_RENDERERS): Plot has no data renderers: Figure(id='fa8c62ad-75a0-46ef-beb3-400f05be7965', ...)\n",
      "W-1001 (NO_DATA_RENDERERS): Plot has no data renderers: Figure(id='cd169781-9955-467a-83b8-58f6c3a6be56', ...)\n",
      "W-1001 (NO_DATA_RENDERERS): Plot has no data renderers: Figure(id='6778228b-0b9e-4043-a29b-0aeb1d24bd4c', ...)\n",
      "W-1001 (NO_DATA_RENDERERS): Plot has no data renderers: Figure(id='1066bf66-a120-4315-b449-8299604db21a', ...)\n",
      "W-1001 (NO_DATA_RENDERERS): Plot has no data renderers: Figure(id='fbc50f62-80e2-41e6-8cb7-6eb47d27991e', ...)\n"
     ]
    }
   ],
   "source": [
    "import requests\n",
    "import quandl as Qd\n",
    "import pandas as pd\n",
    "import numpy as np\n",
    "import os\n",
    "import time\n",
    "from bokeh.plotting import figure, show\n",
    "from bokeh.io import output_notebook\n",
    "from bokeh.models import ColumnDataSource\n",
    "\n",
    "coffee = Qd.get(\"CHRIS/ICE_KC1\", column_index='4', start_date=\"2017-08-07\", end_date=\"2017-11-09\")\n",
    "source = ColumnDataSource(data=coffee)\n",
    "\n",
    "\n",
    "\n",
    "p = figure(plot_width=800, plot_height=650, x_axis_type=\"datetime\", title=\"Coffee C Futures, Continuous Contract #2\")\n",
    "\n",
    "p.line(x='Date',y='Settle',source=source, line_width = 2.5)\n",
    "p.legend.border_line_width = 3\n",
    "p.legend.border_line_color = \"pink\"\n",
    "p.legend.border_line_alpha = 0.5\n",
    "p.xaxis.axis_label = 'Date'\n",
    "p.xaxis.axis_label_text_font_size = \"30pt\"\n",
    "p.yaxis.axis_label = 'Settle'\n",
    "p.yaxis.axis_label_text_font_size = \"30pt\"\n",
    "p.title.text_color = \"brown\"\n",
    "p.title.text_font = \"italic\"\n",
    "p.title.text_font_size = '15pt'\n",
    "show(p)\n"
   ]
  },
  {
   "cell_type": "code",
   "execution_count": null,
   "metadata": {
    "collapsed": true
   },
   "outputs": [],
   "source": []
  }
 ],
 "metadata": {
  "kernelspec": {
   "display_name": "Python 3",
   "language": "python",
   "name": "python3"
  },
  "language_info": {
   "codemirror_mode": {
    "name": "ipython",
    "version": 3
   },
   "file_extension": ".py",
   "mimetype": "text/x-python",
   "name": "python",
   "nbconvert_exporter": "python",
   "pygments_lexer": "ipython3",
   "version": "3.6.3"
  }
 },
 "nbformat": 4,
 "nbformat_minor": 2
}
